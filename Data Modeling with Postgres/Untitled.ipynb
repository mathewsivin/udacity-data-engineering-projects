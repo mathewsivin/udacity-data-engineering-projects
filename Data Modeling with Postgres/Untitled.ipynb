{
 "cells": [
  {
   "cell_type": "code",
   "execution_count": 33,
   "metadata": {
    "editable": true
   },
   "outputs": [],
   "source": [
    "import os\n",
    "import glob\n",
    "import psycopg2\n",
    "import pandas as pd\n",
    "from sql_queries import *"
   ]
  },
  {
   "cell_type": "code",
   "execution_count": 34,
   "metadata": {
    "editable": true
   },
   "outputs": [],
   "source": [
    "conn = psycopg2.connect(\"host=127.0.0.1 dbname=sparkifydb user=student password=student\")\n",
    "cur = conn.cursor()"
   ]
  },
  {
   "cell_type": "code",
   "execution_count": 35,
   "metadata": {
    "editable": true
   },
   "outputs": [],
   "source": [
    "def process_song_file(cur, filepath):\n",
    "    # open song file\n",
    "    df = pd.read_json(filepath, lines=True) # concatenate all the data frames in the list.\n",
    "    \n",
    "    # insert song record\n",
    "    song_data = (df[['song_id', 'title', 'artist_id', 'year', 'duration']].values[0]).tolist()\n",
    "    cur.execute(song_table_insert, song_data)\n",
    "    \n",
    "    # insert artist record\n",
    "    artist_data = (df[['artist_id', 'artist_name', 'artist_location', 'artist_latitude', 'artist_longitude']].values[0]).tolist()\n",
    "    cur.execute(artist_table_insert, artist_data)"
   ]
  },
  {
   "cell_type": "code",
   "execution_count": 36,
   "metadata": {
    "editable": true
   },
   "outputs": [
    {
     "name": "stdout",
     "output_type": "stream",
     "text": [
      "79 files found in data/song_data\n",
      "1/79 files processed.\n",
      "2/79 files processed.\n",
      "3/79 files processed.\n",
      "4/79 files processed.\n",
      "5/79 files processed.\n",
      "6/79 files processed.\n",
      "7/79 files processed.\n",
      "8/79 files processed.\n",
      "9/79 files processed.\n",
      "10/79 files processed.\n",
      "11/79 files processed.\n",
      "12/79 files processed.\n",
      "13/79 files processed.\n",
      "14/79 files processed.\n",
      "15/79 files processed.\n",
      "16/79 files processed.\n",
      "17/79 files processed.\n",
      "18/79 files processed.\n",
      "19/79 files processed.\n",
      "20/79 files processed.\n",
      "21/79 files processed.\n",
      "22/79 files processed.\n",
      "23/79 files processed.\n",
      "24/79 files processed.\n",
      "25/79 files processed.\n",
      "26/79 files processed.\n",
      "27/79 files processed.\n",
      "28/79 files processed.\n",
      "29/79 files processed.\n",
      "30/79 files processed.\n",
      "31/79 files processed.\n",
      "32/79 files processed.\n",
      "33/79 files processed.\n",
      "34/79 files processed.\n",
      "35/79 files processed.\n",
      "36/79 files processed.\n",
      "37/79 files processed.\n",
      "38/79 files processed.\n",
      "39/79 files processed.\n",
      "40/79 files processed.\n",
      "41/79 files processed.\n",
      "42/79 files processed.\n",
      "43/79 files processed.\n",
      "44/79 files processed.\n",
      "45/79 files processed.\n",
      "46/79 files processed.\n",
      "47/79 files processed.\n",
      "48/79 files processed.\n",
      "49/79 files processed.\n",
      "50/79 files processed.\n",
      "51/79 files processed.\n",
      "52/79 files processed.\n",
      "53/79 files processed.\n",
      "54/79 files processed.\n",
      "55/79 files processed.\n",
      "56/79 files processed.\n",
      "57/79 files processed.\n",
      "58/79 files processed.\n",
      "59/79 files processed.\n",
      "60/79 files processed.\n",
      "61/79 files processed.\n",
      "62/79 files processed.\n",
      "63/79 files processed.\n",
      "64/79 files processed.\n",
      "65/79 files processed.\n",
      "66/79 files processed.\n",
      "67/79 files processed.\n",
      "68/79 files processed.\n",
      "69/79 files processed.\n",
      "70/79 files processed.\n",
      "71/79 files processed.\n",
      "72/79 files processed.\n",
      "73/79 files processed.\n",
      "74/79 files processed.\n",
      "75/79 files processed.\n",
      "76/79 files processed.\n",
      "77/79 files processed.\n",
      "78/79 files processed.\n",
      "79/79 files processed.\n"
     ]
    }
   ],
   "source": [
    "#process_data(cur, conn, filepath='data/song_data', func=process_song_file)\n",
    "all_files = []\n",
    "for root, dirs, files in os.walk('data/song_data'):\n",
    "    files = glob.glob(os.path.join(root,'*.json'))\n",
    "    for f in files :\n",
    "        all_files.append(os.path.abspath(f))\n",
    "\n",
    "# get total number of files found\n",
    "num_files = len(all_files)\n",
    "print('{} files found in {}'.format(num_files, 'data/song_data'))\n",
    "\n",
    "# iterate over files and process\n",
    "for i, datafile in enumerate(all_files, 1):\n",
    "    process_song_file(cur, datafile)\n",
    "    conn.commit()\n",
    "    print('{}/{} files processed.'.format(i, num_files))"
   ]
  },
  {
   "cell_type": "code",
   "execution_count": 31,
   "metadata": {
    "editable": true
   },
   "outputs": [],
   "source": [
    "df = pd.read_json('/home/workspace/data/song_data/A/A/A/TRAAAAW128F429D538.json', lines=True)"
   ]
  },
  {
   "cell_type": "code",
   "execution_count": 32,
   "metadata": {
    "editable": true
   },
   "outputs": [
    {
     "data": {
      "text/html": [
       "<div>\n",
       "<style scoped>\n",
       "    .dataframe tbody tr th:only-of-type {\n",
       "        vertical-align: middle;\n",
       "    }\n",
       "\n",
       "    .dataframe tbody tr th {\n",
       "        vertical-align: top;\n",
       "    }\n",
       "\n",
       "    .dataframe thead th {\n",
       "        text-align: right;\n",
       "    }\n",
       "</style>\n",
       "<table border=\"1\" class=\"dataframe\">\n",
       "  <thead>\n",
       "    <tr style=\"text-align: right;\">\n",
       "      <th></th>\n",
       "      <th>artist_id</th>\n",
       "      <th>artist_latitude</th>\n",
       "      <th>artist_location</th>\n",
       "      <th>artist_longitude</th>\n",
       "      <th>artist_name</th>\n",
       "      <th>duration</th>\n",
       "      <th>num_songs</th>\n",
       "      <th>song_id</th>\n",
       "      <th>title</th>\n",
       "      <th>year</th>\n",
       "    </tr>\n",
       "  </thead>\n",
       "  <tbody>\n",
       "    <tr>\n",
       "      <th>0</th>\n",
       "      <td>ARD7TVE1187B99BFB1</td>\n",
       "      <td>NaN</td>\n",
       "      <td>California - LA</td>\n",
       "      <td>NaN</td>\n",
       "      <td>Casual</td>\n",
       "      <td>218.93179</td>\n",
       "      <td>1</td>\n",
       "      <td>SOMZWCG12A8C13C480</td>\n",
       "      <td>I Didn't Mean To</td>\n",
       "      <td>0</td>\n",
       "    </tr>\n",
       "  </tbody>\n",
       "</table>\n",
       "</div>"
      ],
      "text/plain": [
       "            artist_id  artist_latitude  artist_location  artist_longitude  \\\n",
       "0  ARD7TVE1187B99BFB1              NaN  California - LA               NaN   \n",
       "\n",
       "  artist_name   duration  num_songs             song_id             title  \\\n",
       "0      Casual  218.93179          1  SOMZWCG12A8C13C480  I Didn't Mean To   \n",
       "\n",
       "   year  \n",
       "0     0  "
      ]
     },
     "execution_count": 32,
     "metadata": {},
     "output_type": "execute_result"
    }
   ],
   "source": [
    "df"
   ]
  },
  {
   "cell_type": "code",
   "execution_count": null,
   "metadata": {
    "editable": true
   },
   "outputs": [],
   "source": []
  }
 ],
 "metadata": {
  "kernelspec": {
   "display_name": "Python 3",
   "language": "python",
   "name": "python3"
  },
  "language_info": {
   "codemirror_mode": {
    "name": "ipython",
    "version": 3
   },
   "file_extension": ".py",
   "mimetype": "text/x-python",
   "name": "python",
   "nbconvert_exporter": "python",
   "pygments_lexer": "ipython3",
   "version": "3.6.3"
  }
 },
 "nbformat": 4,
 "nbformat_minor": 4
}
